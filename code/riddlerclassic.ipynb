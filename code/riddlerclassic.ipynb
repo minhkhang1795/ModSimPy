{
 "cells": [
  {
   "cell_type": "markdown",
   "metadata": {},
   "source": [
    "# Modeling and Simulation in Python\n",
    "\n",
    "Rabbit example\n",
    "\n",
    "Copyright 2017 Allen Downey\n",
    "\n",
    "License: [Creative Commons Attribution 4.0 International](https://creativecommons.org/licenses/by/4.0)\n"
   ]
  },
  {
   "cell_type": "code",
   "execution_count": 1,
   "metadata": {
    "collapsed": true
   },
   "outputs": [],
   "source": [
    "# If you want the figures to appear in the notebook, \n",
    "# and you want to interact with them, use\n",
    "# %matplotlib notebook\n",
    "\n",
    "# If you want the figures to appear in the notebook, \n",
    "# and you don't want to interact with them, use\n",
    "# %matplotlib inline\n",
    "\n",
    "# If you want the figures to appear in separate windows, use\n",
    "# %matplotlib qt5\n",
    "\n",
    "# To switch from one to another, you have to select Kernel->Restart\n",
    "\n",
    "%matplotlib inline\n",
    "\n",
    "from modsim import *"
   ]
  },
  {
   "cell_type": "markdown",
   "metadata": {},
   "source": [
    "This notebook develops a simple growth model, like the ones in Chapter 3, and uses it to demonstrate a parameter sweep.\n",
    "\n",
    "The system we'll model is a rabbit farm.  Suppose you start with an initial population of rabbits and let them breed.  For simplicity, we'll assume that all rabbits are on the same breeding cycle, and we'll measure time in \"seasons\", where a season is the reproductive time of a rabbit.\n",
    "\n",
    "If we provide all the food, space and other resources a rabbit might need, we expect the number of new rabbits each season to be proportional to the current population, controlled by a parameter, `birth_rate`, that represents the number of new rabbits per existing rabbit, per season.  As a starting place, I'll assume `birth_rate = 0.9`.\n",
    "\n",
    "Sadly, during each season, some proportion of the rabbits die.  In a detailed model, we might keep track of each rabbit's age, because the chance of dying is probably highest for young and old rabbits, and lowest in between.  But for simplicity, we'll model the death process with a single parameter, `death_rate`, that represent the number\n",
    "of deaths per rabbit per season.   As a starting place, I'll assume `death_rate = 0.5`.\n",
    "\n",
    "Here's a system object that contains these parameters as well as:\n",
    "\n",
    "* The initial population, `p0`,\n",
    "* The initial time, `t0`, and\n",
    "* The duration of the simulation, `t_end`, measured in seasons."
   ]
  },
  {
   "cell_type": "code",
   "execution_count": 141,
   "metadata": {
    "collapsed": true
   },
   "outputs": [],
   "source": [
    "class Player():\n",
    "    \"\"\"\n",
    "    Player class with their strategy\n",
    "    heads_call_p: probability they call head\n",
    "    rush_call_p: probabolity they call rush\n",
    "    \"\"\"\n",
    "    heads_call_p = 0.5\n",
    "    rush_call_p = 0.5\n",
    "    points = 0\n",
    "    \n",
    "    def __init__(self, heads_call_p, rush_call_p):\n",
    "        self.heads_call_p = heads_call_p\n",
    "        self.rush_call_p = rush_call_p\n",
    "        "
   ]
  },
  {
   "cell_type": "code",
   "execution_count": 175,
   "metadata": {
    "collapsed": true
   },
   "outputs": [],
   "source": [
    "def make_game():\n",
    "    player1 = Player(heads_call_p=1, rush_call_p=1)\n",
    "    player2 = Player(heads_call_p=1, rush_call_p=0)\n",
    "    return System(player1=player1, player2=player2)"
   ]
  },
  {
   "cell_type": "code",
   "execution_count": 176,
   "metadata": {},
   "outputs": [],
   "source": [
    "def run_simulations():\n",
    "    print(\"here22\")\n",
    "\n",
    "    # Let's play 10,000 times and calculate the mean\n",
    "    num_run = 12000\n",
    "    \n",
    "    # total points for each player\n",
    "    total_points_1 = 0\n",
    "    total_points_2 = 0\n",
    "    num_victory_1 = 0\n",
    "    minus = 0\n",
    "    \n",
    "    for i in range(num_run):\n",
    "        game = make_game()\n",
    "        run_simulation(game)\n",
    "        total_points_1 += game.player1.points\n",
    "        total_points_2 += game.player2.points\n",
    "        if game.player1.points > game.player2.points:\n",
    "            num_victory_1 += 1\n",
    "        elif game.player1.points == game.player2.points:\n",
    "            minus += 1\n",
    "        \n",
    "    #print(total_points_1/num_run, total_points_2/num_run)\n",
    "    return (num_victory_1)/(num_run - minus)"
   ]
  },
  {
   "cell_type": "code",
   "execution_count": 171,
   "metadata": {
    "collapsed": true
   },
   "outputs": [],
   "source": [
    "def run_simulation(game):\n",
    "    # Player 1 goes first\n",
    "    for i in range(50):\n",
    "        # Determine if player 1 calls rush or pass\n",
    "        if flip(game.player1.rush_call_p):\n",
    "            points = 1\n",
    "        else:\n",
    "            points = 2\n",
    "        \n",
    "        # Flip coin\n",
    "        if flip(game.player1.heads_call_p) and flip(0.5):\n",
    "            game.player1.points += points\n",
    "        else:\n",
    "            game.player2.points += points\n",
    "    \n",
    "    # Player 2 goes after that\n",
    "    for i in range(50):\n",
    "        # Determine if player 1 calls rush or pass\n",
    "        if flip(game.player2.rush_call_p):\n",
    "            points = 1\n",
    "        else:\n",
    "            points = 2\n",
    "            \n",
    "        if flip(game.player2.heads_call_p) and flip(0.5):\n",
    "            game.player2.points += points\n",
    "        else:\n",
    "            game.player1.points += points\n",
    "    \n",
    "    return game.player1.points, game.player2.points"
   ]
  },
  {
   "cell_type": "code",
   "execution_count": 23,
   "metadata": {
    "collapsed": true
   },
   "outputs": [],
   "source": []
  },
  {
   "cell_type": "code",
   "execution_count": 178,
   "metadata": {},
   "outputs": [
    {
     "name": "stdout",
     "output_type": "stream",
     "text": [
      "here22\n"
     ]
    },
    {
     "data": {
      "text/plain": [
       "0.49811552283285127"
      ]
     },
     "execution_count": 178,
     "metadata": {},
     "output_type": "execute_result"
    }
   ],
   "source": [
    "run_simulations()"
   ]
  },
  {
   "cell_type": "code",
   "execution_count": null,
   "metadata": {
    "collapsed": true
   },
   "outputs": [],
   "source": []
  }
 ],
 "metadata": {
  "kernelspec": {
   "display_name": "Python 3",
   "language": "python",
   "name": "python3"
  },
  "language_info": {
   "codemirror_mode": {
    "name": "ipython",
    "version": 3
   },
   "file_extension": ".py",
   "mimetype": "text/x-python",
   "name": "python",
   "nbconvert_exporter": "python",
   "pygments_lexer": "ipython3",
   "version": "3.6.1"
  }
 },
 "nbformat": 4,
 "nbformat_minor": 1
}
