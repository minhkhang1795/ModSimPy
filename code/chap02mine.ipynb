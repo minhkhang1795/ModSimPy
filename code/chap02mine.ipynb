{
 "cells": [
  {
   "cell_type": "markdown",
   "metadata": {},
   "source": [
    "# Modeling and Simulation in Python\n",
    "\n",
    "Chapter 2: Simulation\n",
    "\n",
    "Copyright 2017 Allen Downey\n",
    "\n",
    "License: [Creative Commons Attribution 4.0 International](https://creativecommons.org/licenses/by/4.0)\n"
   ]
  },
  {
   "cell_type": "markdown",
   "metadata": {},
   "source": [
    "We'll start with the same code we saw last time: the magic command that tells Jupyter where to put the figures, and the import statement that gets the functions defined in the `modsim` module."
   ]
  },
  {
   "cell_type": "code",
   "execution_count": 5,
   "metadata": {
    "collapsed": true
   },
   "outputs": [],
   "source": [
    "# If you want the figures to appear in the notebook, \n",
    "# and you want to interact with them, use\n",
    "# %matplotlib notebook\n",
    "\n",
    "# If you want the figures to appear in the notebook, \n",
    "# and you don't want to interact with them, use\n",
    "# %matplotlib inline\n",
    "\n",
    "# If you want the figures to appear in separate windows, use\n",
    "# %matplotlib qt5\n",
    "\n",
    "%matplotlib qt5\n",
    "\n",
    "from modsim import *"
   ]
  },
  {
   "cell_type": "markdown",
   "metadata": {},
   "source": [
    "## More than one System object\n",
    "\n",
    "Here's the code from the previous chapter, with two changes:\n",
    "\n",
    "1. I've added DocStrings that explain what each function does, and what parameters it takes.\n",
    "\n",
    "2. I've added a parameter named `system` to the functions so they work with whatever `System` object we give them, instead of always using `bikeshare`.  That will be useful soon when we have more than one `System` object."
   ]
  },
  {
   "cell_type": "code",
   "execution_count": 68,
   "metadata": {
    "collapsed": true
   },
   "outputs": [],
   "source": [
    "def run_steps(system, num_steps=1, p1=0.5, p2=0.5):\n",
    "    \"\"\"Simulate the given number of time steps.\n",
    "    \n",
    "    system: bikeshare System object\n",
    "    num_steps: number of time steps\n",
    "    p1: probability of an Olin->Wellesley customer arrival\n",
    "    p2: probability of a Wellesley->Olin customer arrival\n",
    "    \"\"\"\n",
    "    for i in range(num_steps):\n",
    "        step(system, p1, p2)\n",
    "        plot_system(system)\n",
    "        \n",
    "def step(system, p1=0.5, p2=0.5):\n",
    "    \"\"\"Simulate one minute of time.\n",
    "    \n",
    "    system: bikeshare System object\n",
    "    p1: probability of an Olin->Wellesley customer arrival\n",
    "    p2: probability of a Wellesley->Olin customer arrival\n",
    "    \"\"\"\n",
    "    \n",
    "    if flip(p1):\n",
    "        bike_to_wellesley(system)\n",
    "    \n",
    "    if flip(p2):\n",
    "        bike_to_olin(system)\n",
    "        \n",
    "def bike_to_wellesley(system):\n",
    "    \"\"\"Move one bike from Olin to Wellesley.\n",
    "    \n",
    "    system: bikeshare System object\n",
    "    \"\"\"\n",
    "    move_bike(system, 1)\n",
    "    \n",
    "def bike_to_olin(system):\n",
    "    \"\"\"Move one bike from Wellesley to Olin.\n",
    "    \n",
    "    system: bikeshare System object\n",
    "    \"\"\"\n",
    "    move_bike(system, -1)\n",
    "    \n",
    "def move_bike(system, n):\n",
    "    \"\"\"Move a bike.\n",
    "    \n",
    "    system: bikeshare System object\n",
    "    n: +1 to move from Olin to Wellesley or\n",
    "       -1 to move from Wellesley to Olin\n",
    "    \"\"\"\n",
    "    system.olin -= n\n",
    "    system.wellesley += n\n",
    "    \n",
    "def plot_system(system):\n",
    "    \"\"\"Plot the current system of the bikeshare system.\n",
    "    \n",
    "    system: bikeshare System object\n",
    "    \"\"\"\n",
    "    plot(system.olin, 'rs-', label='Olin')\n",
    "    plot(system.wellesley, 'bo-', label='Wellesley')\n",
    "    \n",
    "def decorate():\n",
    "    \"\"\"Add a legend and label the axes.\n",
    "    \"\"\"\n",
    "    legend(loc='best')\n",
    "    label_axes(title='Olin-Wellesley Bikeshare',\n",
    "               xlabel='Time step (min)', \n",
    "               ylabel='Number of bikes')"
   ]
  },
  {
   "cell_type": "markdown",
   "metadata": {},
   "source": [
    "Now we can create more than one `System` object:"
   ]
  },
  {
   "cell_type": "code",
   "execution_count": 69,
   "metadata": {},
   "outputs": [
    {
     "data": {
      "text/html": [
       "<div>\n",
       "<style>\n",
       "    .dataframe thead tr:only-child th {\n",
       "        text-align: right;\n",
       "    }\n",
       "\n",
       "    .dataframe thead th {\n",
       "        text-align: left;\n",
       "    }\n",
       "\n",
       "    .dataframe tbody tr th {\n",
       "        vertical-align: top;\n",
       "    }\n",
       "</style>\n",
       "<table border=\"1\" class=\"dataframe\">\n",
       "  <thead>\n",
       "    <tr style=\"text-align: right;\">\n",
       "      <th></th>\n",
       "      <th>value</th>\n",
       "    </tr>\n",
       "  </thead>\n",
       "  <tbody>\n",
       "    <tr>\n",
       "      <th>olin</th>\n",
       "      <td>10</td>\n",
       "    </tr>\n",
       "    <tr>\n",
       "      <th>wellesley</th>\n",
       "      <td>2</td>\n",
       "    </tr>\n",
       "  </tbody>\n",
       "</table>\n",
       "</div>"
      ],
      "text/plain": [
       "olin         10\n",
       "wellesley     2\n",
       "dtype: int64"
      ]
     },
     "execution_count": 69,
     "metadata": {},
     "output_type": "execute_result"
    }
   ],
   "source": [
    "bikeshare1 = System(olin=10, wellesley=2)\n",
    "bikeshare1"
   ]
  },
  {
   "cell_type": "code",
   "execution_count": 70,
   "metadata": {},
   "outputs": [
    {
     "data": {
      "text/html": [
       "<div>\n",
       "<style>\n",
       "    .dataframe thead tr:only-child th {\n",
       "        text-align: right;\n",
       "    }\n",
       "\n",
       "    .dataframe thead th {\n",
       "        text-align: left;\n",
       "    }\n",
       "\n",
       "    .dataframe tbody tr th {\n",
       "        vertical-align: top;\n",
       "    }\n",
       "</style>\n",
       "<table border=\"1\" class=\"dataframe\">\n",
       "  <thead>\n",
       "    <tr style=\"text-align: right;\">\n",
       "      <th></th>\n",
       "      <th>value</th>\n",
       "    </tr>\n",
       "  </thead>\n",
       "  <tbody>\n",
       "    <tr>\n",
       "      <th>olin</th>\n",
       "      <td>10</td>\n",
       "    </tr>\n",
       "    <tr>\n",
       "      <th>wellesley</th>\n",
       "      <td>2</td>\n",
       "    </tr>\n",
       "  </tbody>\n",
       "</table>\n",
       "</div>"
      ],
      "text/plain": [
       "olin         10\n",
       "wellesley     2\n",
       "dtype: int64"
      ]
     },
     "execution_count": 70,
     "metadata": {},
     "output_type": "execute_result"
    }
   ],
   "source": [
    "bikeshare2 = System(olin=10, wellesley=2)\n",
    "bikeshare2"
   ]
  },
  {
   "cell_type": "markdown",
   "metadata": {},
   "source": [
    "And whenever we call a function, we indicate which `System` object to work with:"
   ]
  },
  {
   "cell_type": "code",
   "execution_count": 71,
   "metadata": {
    "collapsed": true
   },
   "outputs": [],
   "source": [
    "bike_to_olin(bikeshare1)"
   ]
  },
  {
   "cell_type": "code",
   "execution_count": 72,
   "metadata": {
    "collapsed": true
   },
   "outputs": [],
   "source": [
    "bike_to_wellesley(bikeshare2)"
   ]
  },
  {
   "cell_type": "markdown",
   "metadata": {},
   "source": [
    "And you can confirm that the different systems are getting updated independently:"
   ]
  },
  {
   "cell_type": "code",
   "execution_count": 73,
   "metadata": {},
   "outputs": [
    {
     "data": {
      "text/html": [
       "<div>\n",
       "<style>\n",
       "    .dataframe thead tr:only-child th {\n",
       "        text-align: right;\n",
       "    }\n",
       "\n",
       "    .dataframe thead th {\n",
       "        text-align: left;\n",
       "    }\n",
       "\n",
       "    .dataframe tbody tr th {\n",
       "        vertical-align: top;\n",
       "    }\n",
       "</style>\n",
       "<table border=\"1\" class=\"dataframe\">\n",
       "  <thead>\n",
       "    <tr style=\"text-align: right;\">\n",
       "      <th></th>\n",
       "      <th>value</th>\n",
       "    </tr>\n",
       "  </thead>\n",
       "  <tbody>\n",
       "    <tr>\n",
       "      <th>olin</th>\n",
       "      <td>11</td>\n",
       "    </tr>\n",
       "    <tr>\n",
       "      <th>wellesley</th>\n",
       "      <td>1</td>\n",
       "    </tr>\n",
       "  </tbody>\n",
       "</table>\n",
       "</div>"
      ],
      "text/plain": [
       "olin         11\n",
       "wellesley     1\n",
       "dtype: int64"
      ]
     },
     "execution_count": 73,
     "metadata": {},
     "output_type": "execute_result"
    }
   ],
   "source": [
    "bikeshare1"
   ]
  },
  {
   "cell_type": "code",
   "execution_count": 74,
   "metadata": {
    "scrolled": false
   },
   "outputs": [
    {
     "data": {
      "text/html": [
       "<div>\n",
       "<style>\n",
       "    .dataframe thead tr:only-child th {\n",
       "        text-align: right;\n",
       "    }\n",
       "\n",
       "    .dataframe thead th {\n",
       "        text-align: left;\n",
       "    }\n",
       "\n",
       "    .dataframe tbody tr th {\n",
       "        vertical-align: top;\n",
       "    }\n",
       "</style>\n",
       "<table border=\"1\" class=\"dataframe\">\n",
       "  <thead>\n",
       "    <tr style=\"text-align: right;\">\n",
       "      <th></th>\n",
       "      <th>value</th>\n",
       "    </tr>\n",
       "  </thead>\n",
       "  <tbody>\n",
       "    <tr>\n",
       "      <th>olin</th>\n",
       "      <td>9</td>\n",
       "    </tr>\n",
       "    <tr>\n",
       "      <th>wellesley</th>\n",
       "      <td>3</td>\n",
       "    </tr>\n",
       "  </tbody>\n",
       "</table>\n",
       "</div>"
      ],
      "text/plain": [
       "olin         9\n",
       "wellesley    3\n",
       "dtype: int64"
      ]
     },
     "execution_count": 74,
     "metadata": {},
     "output_type": "execute_result"
    }
   ],
   "source": [
    "bikeshare2"
   ]
  },
  {
   "cell_type": "markdown",
   "metadata": {},
   "source": [
    "## Negative bikes"
   ]
  },
  {
   "cell_type": "markdown",
   "metadata": {},
   "source": [
    "In the code we have so far, the number of bikes at one of the locations can go negative, and the number of bikes at the other location can exceed the actual number of bikes in the system.\n",
    "\n",
    "If you run this simulation a few times, it happens quite often."
   ]
  },
  {
   "cell_type": "code",
   "execution_count": 75,
   "metadata": {},
   "outputs": [],
   "source": [
    "bikeshare = System(olin=10, wellesley=2)\n",
    "newfig()\n",
    "plot_system(bikeshare)\n",
    "decorate()\n",
    "run_steps(bikeshare, 60, 0.4, 0.2)"
   ]
  },
  {
   "cell_type": "markdown",
   "metadata": {},
   "source": [
    "But this is relatively easy to fix, using the `return` statement to exit the function early if the update would cause negative bikes.\n",
    "\n",
    "If the second `if` statement seems confusing, remember that `n` can be negative."
   ]
  },
  {
   "cell_type": "code",
   "execution_count": 76,
   "metadata": {
    "collapsed": true
   },
   "outputs": [],
   "source": [
    "def move_bike(system, n):\n",
    "    # make sure the number of bikes won't go negative\n",
    "    olin_temp = system.olin - n\n",
    "    if olin_temp < 0:\n",
    "        print(\"Sorry! We don't have enough bikes in Olin station\")\n",
    "        return\n",
    "    \n",
    "    wellesley_temp = system.wellesley + n\n",
    "    if wellesley_temp < 0:\n",
    "        print(\"Sorry! We don't have enough bikes in Wellesey station\")\n",
    "        return\n",
    "    \n",
    "    # update the system\n",
    "    system.olin = olin_temp\n",
    "    system.wellesley = wellesley_temp"
   ]
  },
  {
   "cell_type": "markdown",
   "metadata": {},
   "source": [
    "Now if you run the simulation again, it should behave."
   ]
  },
  {
   "cell_type": "code",
   "execution_count": 77,
   "metadata": {},
   "outputs": [
    {
     "name": "stdout",
     "output_type": "stream",
     "text": [
      "Sorry! We don't have enough bikes in Olin station\n",
      "Sorry! We don't have enough bikes in Olin station\n"
     ]
    }
   ],
   "source": [
    "bikeshare = System(olin=10, wellesley=2)\n",
    "newfig()\n",
    "plot_system(bikeshare)\n",
    "decorate()\n",
    "run_steps(bikeshare, 60, 0.4, 0.2)"
   ]
  },
  {
   "cell_type": "markdown",
   "metadata": {},
   "source": [
    "The variables `olin` and `wellesley` are created inside `move_bike`, so they are local.  When the function ends, they go away.\n",
    "\n",
    "If you try to access a local variable from outside its function, you get an error:"
   ]
  },
  {
   "cell_type": "code",
   "execution_count": 78,
   "metadata": {},
   "outputs": [
    {
     "data": {
      "text/plain": [
       "30"
      ]
     },
     "execution_count": 78,
     "metadata": {},
     "output_type": "execute_result"
    }
   ],
   "source": [
    "# If you remove the # from the last line in this cell and run it, you'll get\n",
    "# NameError: name 'olin' is not defined\n",
    "\n",
    "olin"
   ]
  },
  {
   "cell_type": "markdown",
   "metadata": {},
   "source": [
    "**Exercise:** Add print statements in `move_bike` so it prints a message each time a customer arrives and doesn't find a bike.  Run the simulation again to confirm that it works as you expect.  Then you might want to remove the print statements before you go on."
   ]
  },
  {
   "cell_type": "markdown",
   "metadata": {},
   "source": [
    "## Comparison operators"
   ]
  },
  {
   "cell_type": "markdown",
   "metadata": {},
   "source": [
    "The `if` statements in the previous section used the comparison operator `<`.  The other comparison operators are listed in the book.\n",
    "\n",
    "It is easy to confuse the comparison operator `==` with the assignment operator `=`.\n",
    "\n",
    "Remember that `=` creates a variable or gives an existing variable a new value."
   ]
  },
  {
   "cell_type": "code",
   "execution_count": 79,
   "metadata": {
    "collapsed": true
   },
   "outputs": [],
   "source": [
    "x = 5"
   ]
  },
  {
   "cell_type": "markdown",
   "metadata": {},
   "source": [
    "Whereas `==` compared two values and returns `True` if they are equal."
   ]
  },
  {
   "cell_type": "code",
   "execution_count": 80,
   "metadata": {},
   "outputs": [
    {
     "data": {
      "text/plain": [
       "True"
      ]
     },
     "execution_count": 80,
     "metadata": {},
     "output_type": "execute_result"
    }
   ],
   "source": [
    "x == 5"
   ]
  },
  {
   "cell_type": "markdown",
   "metadata": {},
   "source": [
    "You can use `==` in an `if` statement."
   ]
  },
  {
   "cell_type": "code",
   "execution_count": 81,
   "metadata": {},
   "outputs": [
    {
     "name": "stdout",
     "output_type": "stream",
     "text": [
      "yes, x is 5\n"
     ]
    }
   ],
   "source": [
    "if x == 5:\n",
    "    print('yes, x is 5')"
   ]
  },
  {
   "cell_type": "markdown",
   "metadata": {},
   "source": [
    "But if you use `=` in an `if` statement, you get an error."
   ]
  },
  {
   "cell_type": "code",
   "execution_count": 82,
   "metadata": {},
   "outputs": [
    {
     "name": "stdout",
     "output_type": "stream",
     "text": [
      "yes, x is 5\n"
     ]
    }
   ],
   "source": [
    "# If you remove the # from the if statement and run it, you'll get\n",
    "# SyntaxError: invalid syntax\n",
    "x = 5 if flip(0.5) else 9;\n",
    "if x == 5:\n",
    "    print('yes, x is 5')\n",
    "else:\n",
    "    print('no, x isn\\'t 5')"
   ]
  },
  {
   "cell_type": "markdown",
   "metadata": {},
   "source": [
    "**Exercise:** Add an `else` clause to the `if` statement above, and print an appropriate message.\n",
    "\n",
    "Replace the `==` operator with one or two of the other comparison operators, and confirm they do what you expect."
   ]
  },
  {
   "cell_type": "markdown",
   "metadata": {},
   "source": [
    "## Metrics"
   ]
  },
  {
   "cell_type": "markdown",
   "metadata": {},
   "source": [
    "Now that we have a working simulation, we'll use it to evaluate alternative designs and see how good or bad they are.  The metric we'll use is the number of customers who arrive and find no bikes available, which might indicate a design problem."
   ]
  },
  {
   "cell_type": "markdown",
   "metadata": {},
   "source": [
    "First we'll make a new `System` object that creates and initializes the system variables that will keep track of the metrics."
   ]
  },
  {
   "cell_type": "code",
   "execution_count": 83,
   "metadata": {
    "collapsed": true
   },
   "outputs": [],
   "source": [
    "bikeshare = System(olin=10, wellesley=2, \n",
    "                  olin_empty=0, wellesley_empty=0, clock=0)"
   ]
  },
  {
   "cell_type": "markdown",
   "metadata": {},
   "source": [
    "Next we need a version of `move_bike` that updates the metrics."
   ]
  },
  {
   "cell_type": "code",
   "execution_count": 84,
   "metadata": {
    "collapsed": true
   },
   "outputs": [],
   "source": [
    "def move_bike(system, n):\n",
    "    olin_temp = system.olin - n\n",
    "    if olin_temp < 0:\n",
    "        system.olin_empty += 1\n",
    "        print(\"Sorry! We don't have enough bikes in Olin station\")\n",
    "        return\n",
    "    \n",
    "    wellesley_temp = system.wellesley + n\n",
    "    if wellesley_temp < 0:\n",
    "        system.wellesley_empty += 1\n",
    "        print(\"Sorry! We don't have enough bikes in Wellesley station\")\n",
    "        return\n",
    "    \n",
    "    system.olin = olin_temp\n",
    "    system.wellesley = wellesley_temp"
   ]
  },
  {
   "cell_type": "markdown",
   "metadata": {},
   "source": [
    "Now when we run a simulation, it keeps track of unhappy customers."
   ]
  },
  {
   "cell_type": "code",
   "execution_count": 85,
   "metadata": {},
   "outputs": [
    {
     "name": "stdout",
     "output_type": "stream",
     "text": [
      "Sorry! We don't have enough bikes in Olin station\n",
      "Sorry! We don't have enough bikes in Olin station\n",
      "Sorry! We don't have enough bikes in Olin station\n",
      "Sorry! We don't have enough bikes in Olin station\n",
      "Sorry! We don't have enough bikes in Olin station\n"
     ]
    }
   ],
   "source": [
    "newfig()\n",
    "plot_system(bikeshare)\n",
    "decorate()\n",
    "run_steps(bikeshare, 60, 0.4, 0.2)"
   ]
  },
  {
   "cell_type": "markdown",
   "metadata": {},
   "source": [
    "After the simulation, we can print the number of unhappy customers at each location."
   ]
  },
  {
   "cell_type": "code",
   "execution_count": 86,
   "metadata": {},
   "outputs": [
    {
     "data": {
      "text/plain": [
       "5"
      ]
     },
     "execution_count": 86,
     "metadata": {},
     "output_type": "execute_result"
    }
   ],
   "source": [
    "bikeshare.olin_empty"
   ]
  },
  {
   "cell_type": "code",
   "execution_count": 87,
   "metadata": {},
   "outputs": [
    {
     "data": {
      "text/plain": [
       "0"
      ]
     },
     "execution_count": 87,
     "metadata": {},
     "output_type": "execute_result"
    }
   ],
   "source": [
    "bikeshare.wellesley_empty"
   ]
  },
  {
   "cell_type": "markdown",
   "metadata": {},
   "source": [
    "**Exercise:** Let's add a \"clock\" to keep track of how many time steps have elapsed:\n",
    "\n",
    "1. Add a new system variable named `clock` to `bikeshare`, initialized to 0, and \n",
    "\n",
    "2. Modify `step` so it increments (adds one to) `clock` each time it is invoked.\n",
    "\n",
    "Test your code by adding a print statement that prints the value of `clock` at the beginning of each time step."
   ]
  },
  {
   "cell_type": "code",
   "execution_count": 88,
   "metadata": {
    "collapsed": true
   },
   "outputs": [],
   "source": [
    "# Here's a copy of step to get you started\n",
    "\n",
    "def step(system, p1=0.5, p2=0.5):\n",
    "    \"\"\"Simulate one minute of time.\n",
    "    \n",
    "    system: bikeshare System object\n",
    "    p1: probability of an Olin->Wellesley customer arrival\n",
    "    p2: probability of a Wellesley->Olin customer arrival\n",
    "    \"\"\"\n",
    "    system.clock += 1;\n",
    "    # print(system.clock)\n",
    "    \n",
    "    if flip(p1):\n",
    "        bike_to_wellesley(system)\n",
    "    \n",
    "    if flip(p2):\n",
    "        bike_to_olin(system)"
   ]
  },
  {
   "cell_type": "code",
   "execution_count": 89,
   "metadata": {
    "collapsed": true
   },
   "outputs": [],
   "source": [
    "# Solution goes here\n",
    "bikeshare = System(olin=10, wellesley=2, \n",
    "                  olin_empty=0, wellesley_empty=0, clock=0)"
   ]
  },
  {
   "cell_type": "code",
   "execution_count": 90,
   "metadata": {},
   "outputs": [
    {
     "name": "stdout",
     "output_type": "stream",
     "text": [
      "Sorry! We don't have enough bikes in Olin station\n",
      "Sorry! We don't have enough bikes in Olin station\n",
      "Sorry! We don't have enough bikes in Olin station\n"
     ]
    }
   ],
   "source": [
    "# Solution goes here\n",
    "newfig()\n",
    "plot_system(bikeshare)\n",
    "decorate()\n",
    "run_steps(bikeshare, 60, 0.4, 0.2)"
   ]
  },
  {
   "cell_type": "code",
   "execution_count": 91,
   "metadata": {
    "collapsed": true
   },
   "outputs": [],
   "source": [
    "# Solution goes here\n"
   ]
  },
  {
   "cell_type": "markdown",
   "metadata": {},
   "source": [
    "After the simulation, check the final value of `clock`."
   ]
  },
  {
   "cell_type": "code",
   "execution_count": 92,
   "metadata": {},
   "outputs": [
    {
     "name": "stdout",
     "output_type": "stream",
     "text": [
      "60\n"
     ]
    }
   ],
   "source": [
    "print(bikeshare.clock)"
   ]
  },
  {
   "cell_type": "markdown",
   "metadata": {},
   "source": [
    "**Exercise:** Now suppose we'd like to know how long it takes to run out of bikes at either location.  Modify `move_bike` so the first time a student arrives at Olin and doesn't find a bike, it records the value of `clock` in a system variable.\n",
    "\n",
    "Hint: create a system variable named `t_first_empty` and initialize it to `None`, which is a special value (like `True` and `False`) that can be used to indicate a \"special case\".\n",
    "\n",
    "Test your code by running a simulation for 60 minutes and checking the metrics."
   ]
  },
  {
   "cell_type": "code",
   "execution_count": 93,
   "metadata": {},
   "outputs": [
    {
     "name": "stdout",
     "output_type": "stream",
     "text": [
      "Yup, example is None.\n"
     ]
    }
   ],
   "source": [
    "example = None\n",
    "\n",
    "if example == None:\n",
    "    print('Yup, example is None.')"
   ]
  },
  {
   "cell_type": "code",
   "execution_count": 94,
   "metadata": {
    "collapsed": true
   },
   "outputs": [],
   "source": [
    "# Solution goes here\n",
    "bikeshare = System(olin=10, wellesley=2, \n",
    "                  olin_empty=0, wellesley_empty=0, clock=0, t_first_empty=False)"
   ]
  },
  {
   "cell_type": "code",
   "execution_count": 95,
   "metadata": {
    "collapsed": true
   },
   "outputs": [],
   "source": [
    "# Solution goes here\n",
    "def move_bike(system, n):\n",
    "    olin_temp = system.olin - n\n",
    "    if olin_temp < 0:\n",
    "        system.olin_empty += 1\n",
    "        if not system.t_first_empty:\n",
    "            system.t_first_empty = system.clock\n",
    "        return\n",
    "    \n",
    "    wellesley_temp = system.wellesley + n\n",
    "    if wellesley_temp < 0:\n",
    "        system.wellesley_empty += 1\n",
    "        if not system.t_first_empty:\n",
    "            system.t_first_empty = system.clock\n",
    "        return\n",
    "    \n",
    "    system.olin = olin_temp\n",
    "    system.wellesley = wellesley_temp"
   ]
  },
  {
   "cell_type": "code",
   "execution_count": 96,
   "metadata": {},
   "outputs": [],
   "source": [
    "# Solution goes here\n",
    "newfig()\n",
    "plot_system(bikeshare)\n",
    "decorate()\n",
    "run_steps(bikeshare, 60, 0.4, 0.2)"
   ]
  },
  {
   "cell_type": "markdown",
   "metadata": {},
   "source": [
    "After the simulation, check the final value of `t_first_empty`."
   ]
  },
  {
   "cell_type": "code",
   "execution_count": 97,
   "metadata": {},
   "outputs": [
    {
     "name": "stdout",
     "output_type": "stream",
     "text": [
      "9\n"
     ]
    }
   ],
   "source": [
    "print(bikeshare.t_first_empty)"
   ]
  },
  {
   "cell_type": "markdown",
   "metadata": {},
   "source": [
    "Before we go on, let's put `step` and `move_bike` back the way we found them, so they don't break the examples below."
   ]
  },
  {
   "cell_type": "code",
   "execution_count": 98,
   "metadata": {
    "collapsed": true
   },
   "outputs": [],
   "source": [
    "def step(system, p1=0.5, p2=0.5):\n",
    "    if flip(p1):\n",
    "        bike_to_wellesley(system)\n",
    "    \n",
    "    if flip(p2):\n",
    "        bike_to_olin(system)\n",
    "\n",
    "def move_bike(system, n):\n",
    "    olin_temp = system.olin - n\n",
    "    if olin_temp < 0:\n",
    "        system.olin_empty += 1\n",
    "        return\n",
    "    \n",
    "    wellesley_temp = system.wellesley + n\n",
    "    if wellesley_temp < 0:\n",
    "        system.wellesley_empty += 1\n",
    "        return\n",
    "    \n",
    "    system.olin = olin_temp\n",
    "    system.wellesley = wellesley_temp"
   ]
  },
  {
   "cell_type": "markdown",
   "metadata": {},
   "source": [
    "## Returning values"
   ]
  },
  {
   "cell_type": "markdown",
   "metadata": {},
   "source": [
    "Here's a simple function that returns a value:"
   ]
  },
  {
   "cell_type": "code",
   "execution_count": 99,
   "metadata": {
    "collapsed": true
   },
   "outputs": [],
   "source": [
    "def add_five(x):\n",
    "    return x + 5"
   ]
  },
  {
   "cell_type": "markdown",
   "metadata": {},
   "source": [
    "And here's how we call it."
   ]
  },
  {
   "cell_type": "code",
   "execution_count": 100,
   "metadata": {},
   "outputs": [
    {
     "data": {
      "text/plain": [
       "8"
      ]
     },
     "execution_count": 100,
     "metadata": {},
     "output_type": "execute_result"
    }
   ],
   "source": [
    "y = add_five(3)\n",
    "y"
   ]
  },
  {
   "cell_type": "markdown",
   "metadata": {},
   "source": [
    "If you run a function on the last line of a cell, Jupyter displays the result:"
   ]
  },
  {
   "cell_type": "code",
   "execution_count": 101,
   "metadata": {},
   "outputs": [
    {
     "data": {
      "text/plain": [
       "10"
      ]
     },
     "execution_count": 101,
     "metadata": {},
     "output_type": "execute_result"
    }
   ],
   "source": [
    "add_five(5)"
   ]
  },
  {
   "cell_type": "markdown",
   "metadata": {
    "collapsed": true
   },
   "source": [
    "But that can be a bad habit, because usually if you call a function and don't assign the result in a variable, the result gets discarded.\n",
    "\n",
    "In the following example, Jupyter shows the second result, but the first result just disappears."
   ]
  },
  {
   "cell_type": "code",
   "execution_count": 102,
   "metadata": {},
   "outputs": [
    {
     "data": {
      "text/plain": [
       "10"
      ]
     },
     "execution_count": 102,
     "metadata": {},
     "output_type": "execute_result"
    }
   ],
   "source": [
    "add_five(3)\n",
    "add_five(5)"
   ]
  },
  {
   "cell_type": "markdown",
   "metadata": {
    "collapsed": true
   },
   "source": [
    "When you call a function that returns a variable, it is generally a good idea to assign the result to a variable."
   ]
  },
  {
   "cell_type": "code",
   "execution_count": 103,
   "metadata": {},
   "outputs": [
    {
     "name": "stdout",
     "output_type": "stream",
     "text": [
      "8 10\n"
     ]
    }
   ],
   "source": [
    "y1 = add_five(3)\n",
    "y2 = add_five(5)\n",
    "\n",
    "print(y1, y2)"
   ]
  },
  {
   "cell_type": "markdown",
   "metadata": {},
   "source": [
    "**Exercise:** Write a function called `init_system` that creates a `System` object with the system variables `olin=10` and `wellesley=2`, and then returns the new `System` object.\n",
    "\n",
    "Write a line of code that calls `init_system` and assigns the result to a variable."
   ]
  },
  {
   "cell_type": "code",
   "execution_count": 104,
   "metadata": {
    "collapsed": true
   },
   "outputs": [],
   "source": [
    "# Solution goes here\n",
    "def init_system():\n",
    "    return System(olin=10, wellesley=2)"
   ]
  },
  {
   "cell_type": "code",
   "execution_count": 105,
   "metadata": {},
   "outputs": [
    {
     "data": {
      "text/html": [
       "<div>\n",
       "<style>\n",
       "    .dataframe thead tr:only-child th {\n",
       "        text-align: right;\n",
       "    }\n",
       "\n",
       "    .dataframe thead th {\n",
       "        text-align: left;\n",
       "    }\n",
       "\n",
       "    .dataframe tbody tr th {\n",
       "        vertical-align: top;\n",
       "    }\n",
       "</style>\n",
       "<table border=\"1\" class=\"dataframe\">\n",
       "  <thead>\n",
       "    <tr style=\"text-align: right;\">\n",
       "      <th></th>\n",
       "      <th>value</th>\n",
       "    </tr>\n",
       "  </thead>\n",
       "  <tbody>\n",
       "    <tr>\n",
       "      <th>olin</th>\n",
       "      <td>10</td>\n",
       "    </tr>\n",
       "    <tr>\n",
       "      <th>wellesley</th>\n",
       "      <td>2</td>\n",
       "    </tr>\n",
       "  </tbody>\n",
       "</table>\n",
       "</div>"
      ],
      "text/plain": [
       "olin         10\n",
       "wellesley     2\n",
       "dtype: int64"
      ]
     },
     "execution_count": 105,
     "metadata": {},
     "output_type": "execute_result"
    }
   ],
   "source": [
    "# Solution goes here\n",
    "bikeshare = init_system()\n",
    "bikeshare"
   ]
  },
  {
   "cell_type": "markdown",
   "metadata": {},
   "source": [
    "## Running simulations"
   ]
  },
  {
   "cell_type": "markdown",
   "metadata": {},
   "source": [
    "Before we go on, I want to update `run_steps` so it doesn't always plot the results.  The new version takes an additional parameter, `plot_flag`, to indicate whether we want to plot.\n",
    "\n",
    "\"flag\" is a conventional name for a boolean variable that indicates whether or not a condition is true.\n",
    "\n",
    "This version of `run_steps` works even if `num_steps` is not an integer.  It uses the `int` function to round down.  See https://docs.python.org/3/library/functions.html#int"
   ]
  },
  {
   "cell_type": "code",
   "execution_count": 107,
   "metadata": {
    "collapsed": true
   },
   "outputs": [],
   "source": [
    "def run_steps(system, num_steps=1, p1=0.5, p2=0.5, plot_flag=True):\n",
    "    \"\"\"Simulate the given number of time steps.\n",
    "    \n",
    "    `num_steps` should be an integer; if not, it gets rounded down.\n",
    "    \n",
    "    system: bikeshare System object\n",
    "    num_steps: number of time steps\n",
    "    p1: probability of an Olin->Wellesley customer arrival\n",
    "    p2: probability of a Wellesley->Olin customer arrival\n",
    "    plot_flag: boolean, whether to plot\n",
    "    \"\"\"\n",
    "    for i in range(int(num_steps)):\n",
    "        step(system, p1, p2)\n",
    "        if plot_flag:\n",
    "            plot_system(system)"
   ]
  },
  {
   "cell_type": "markdown",
   "metadata": {},
   "source": [
    "Now when we run a simulation, we can choose not to plot the results:"
   ]
  },
  {
   "cell_type": "code",
   "execution_count": 108,
   "metadata": {
    "collapsed": true
   },
   "outputs": [],
   "source": [
    "bikeshare = System(olin=10, wellesley=2, \n",
    "                  olin_empty=0, wellesley_empty=0)\n",
    "run_steps(bikeshare, 60, 0.4, 0.2, plot_flag=False)"
   ]
  },
  {
   "cell_type": "markdown",
   "metadata": {},
   "source": [
    "But after the simulation, we can still read the metrics."
   ]
  },
  {
   "cell_type": "code",
   "execution_count": 109,
   "metadata": {},
   "outputs": [
    {
     "data": {
      "text/plain": [
       "1"
      ]
     },
     "execution_count": 109,
     "metadata": {},
     "output_type": "execute_result"
    }
   ],
   "source": [
    "bikeshare.olin_empty"
   ]
  },
  {
   "cell_type": "markdown",
   "metadata": {},
   "source": [
    "Let's wrap all that in a function."
   ]
  },
  {
   "cell_type": "code",
   "execution_count": 110,
   "metadata": {
    "collapsed": true
   },
   "outputs": [],
   "source": [
    "def run_simulation():\n",
    "    system = System(olin=10, wellesley=2, \n",
    "                  olin_empty=0, wellesley_empty=0)\n",
    "    run_steps(system, 60, 0.4, 0.2, plot_flag=False)\n",
    "    return system"
   ]
  },
  {
   "cell_type": "markdown",
   "metadata": {},
   "source": [
    "And test it."
   ]
  },
  {
   "cell_type": "code",
   "execution_count": 111,
   "metadata": {
    "collapsed": true
   },
   "outputs": [],
   "source": [
    "system = run_simulation()"
   ]
  },
  {
   "cell_type": "code",
   "execution_count": 112,
   "metadata": {},
   "outputs": [
    {
     "name": "stdout",
     "output_type": "stream",
     "text": [
      "10 0\n"
     ]
    }
   ],
   "source": [
    "print(system.olin_empty, system.wellesley_empty)"
   ]
  },
  {
   "cell_type": "markdown",
   "metadata": {},
   "source": [
    "If we generalize `run_simulation` to take `p1` and `p2`, we can use it to run simulations with a range of values for the parameters."
   ]
  },
  {
   "cell_type": "code",
   "execution_count": 113,
   "metadata": {
    "collapsed": true
   },
   "outputs": [],
   "source": [
    "def run_simulation(p1=0.4, p2=0.2):\n",
    "    bikeshare = System(olin=10, wellesley=2, \n",
    "                  olin_empty=0, wellesley_empty=0)\n",
    "    run_steps(bikeshare, 60, p1, p2, plot_flag=False)\n",
    "    return bikeshare"
   ]
  },
  {
   "cell_type": "markdown",
   "metadata": {},
   "source": [
    "When `p1` is small, we probably don't run out of bikes at Olin."
   ]
  },
  {
   "cell_type": "code",
   "execution_count": 114,
   "metadata": {},
   "outputs": [
    {
     "data": {
      "text/plain": [
       "0"
      ]
     },
     "execution_count": 114,
     "metadata": {},
     "output_type": "execute_result"
    }
   ],
   "source": [
    "system = run_simulation(p1=0.2)\n",
    "system.olin_empty"
   ]
  },
  {
   "cell_type": "markdown",
   "metadata": {},
   "source": [
    "When `p1` is large, we probably do."
   ]
  },
  {
   "cell_type": "code",
   "execution_count": 115,
   "metadata": {},
   "outputs": [
    {
     "data": {
      "text/plain": [
       "5"
      ]
     },
     "execution_count": 115,
     "metadata": {},
     "output_type": "execute_result"
    }
   ],
   "source": [
    "system = run_simulation(p1=0.6)\n",
    "system.olin_empty"
   ]
  },
  {
   "cell_type": "markdown",
   "metadata": {
    "collapsed": true
   },
   "source": [
    "**Exercise:**  Write a version of `run_simulation` that takes all five model parameters as function parameters."
   ]
  },
  {
   "cell_type": "code",
   "execution_count": 116,
   "metadata": {
    "collapsed": true
   },
   "outputs": [],
   "source": [
    "# Solution goes here\n",
    "def run_simulation(olin=10, wellesley=2, num_steps=60, p1=0.4, p2=0.2, plot_flag=False):\n",
    "    bikeshare = System(olin=olin, wellesley=wellesley, \n",
    "                  olin_empty=0, wellesley_empty=0)\n",
    "    run_steps(bikeshare, num_steps, p1, p2, plot_flag)\n",
    "    return bikeshare"
   ]
  },
  {
   "cell_type": "code",
   "execution_count": 117,
   "metadata": {},
   "outputs": [
    {
     "data": {
      "text/html": [
       "<div>\n",
       "<style>\n",
       "    .dataframe thead tr:only-child th {\n",
       "        text-align: right;\n",
       "    }\n",
       "\n",
       "    .dataframe thead th {\n",
       "        text-align: left;\n",
       "    }\n",
       "\n",
       "    .dataframe tbody tr th {\n",
       "        vertical-align: top;\n",
       "    }\n",
       "</style>\n",
       "<table border=\"1\" class=\"dataframe\">\n",
       "  <thead>\n",
       "    <tr style=\"text-align: right;\">\n",
       "      <th></th>\n",
       "      <th>value</th>\n",
       "    </tr>\n",
       "  </thead>\n",
       "  <tbody>\n",
       "    <tr>\n",
       "      <th>olin</th>\n",
       "      <td>2</td>\n",
       "    </tr>\n",
       "    <tr>\n",
       "      <th>wellesley</th>\n",
       "      <td>10</td>\n",
       "    </tr>\n",
       "    <tr>\n",
       "      <th>olin_empty</th>\n",
       "      <td>4</td>\n",
       "    </tr>\n",
       "    <tr>\n",
       "      <th>wellesley_empty</th>\n",
       "      <td>0</td>\n",
       "    </tr>\n",
       "  </tbody>\n",
       "</table>\n",
       "</div>"
      ],
      "text/plain": [
       "olin                2\n",
       "wellesley          10\n",
       "olin_empty          4\n",
       "wellesley_empty     0\n",
       "dtype: int64"
      ]
     },
     "execution_count": 117,
     "metadata": {},
     "output_type": "execute_result"
    }
   ],
   "source": [
    "# Solution goes here\n",
    "my_bikeshare = run_simulation(olin=5, wellesley=7, num_steps=50, p1=0.4, p2=0.2, plot_flag=True)\n",
    "#print(my_bikeshare.olin_empty)\n",
    "my_bikeshare"
   ]
  },
  {
   "cell_type": "markdown",
   "metadata": {
    "collapsed": true
   },
   "source": [
    "## More for loops"
   ]
  },
  {
   "cell_type": "markdown",
   "metadata": {},
   "source": [
    "`linspace` creates a NumPy array of equally spaced numbers."
   ]
  },
  {
   "cell_type": "code",
   "execution_count": 118,
   "metadata": {},
   "outputs": [
    {
     "data": {
      "text/plain": [
       "array([ 0.  ,  0.25,  0.5 ,  0.75,  1.  ])"
      ]
     },
     "execution_count": 118,
     "metadata": {},
     "output_type": "execute_result"
    }
   ],
   "source": [
    "p1_array = linspace(start=0, stop=1, num=5)\n",
    "p1_array"
   ]
  },
  {
   "cell_type": "markdown",
   "metadata": {},
   "source": [
    "We can use an array in a `for` loop, like this:"
   ]
  },
  {
   "cell_type": "code",
   "execution_count": 119,
   "metadata": {},
   "outputs": [
    {
     "name": "stdout",
     "output_type": "stream",
     "text": [
      "0.0\n",
      "0.25\n",
      "0.5\n",
      "0.75\n",
      "1.0\n"
     ]
    }
   ],
   "source": [
    "for p1 in p1_array:\n",
    "    print(p1)"
   ]
  },
  {
   "cell_type": "markdown",
   "metadata": {},
   "source": [
    "This will come in handy in the next section."
   ]
  },
  {
   "cell_type": "markdown",
   "metadata": {},
   "source": [
    "**Exercise:** The function `linspace` is part of NumPy.  [You can read the documentation here](https://docs.scipy.org/doc/numpy/reference/generated/numpy.linspace.html).\n",
    "\n",
    "Use `linspace` to make an array of 10 equally spaced numbers from 1 to 10 (including both)."
   ]
  },
  {
   "cell_type": "code",
   "execution_count": 120,
   "metadata": {},
   "outputs": [
    {
     "data": {
      "text/plain": [
       "array([  1.,   2.,   3.,   4.,   5.,   6.,   7.,   8.,   9.,  10.])"
      ]
     },
     "execution_count": 120,
     "metadata": {},
     "output_type": "execute_result"
    }
   ],
   "source": [
    "# Solution goes here\n",
    "my_array = linspace(1, 10, 10)\n",
    "my_array"
   ]
  },
  {
   "cell_type": "markdown",
   "metadata": {},
   "source": [
    "**Exercise:** The `modsim` library provides a related function called `linrange`.  You can view the documentation by running the following cell:"
   ]
  },
  {
   "cell_type": "code",
   "execution_count": 121,
   "metadata": {},
   "outputs": [
    {
     "name": "stdout",
     "output_type": "stream",
     "text": [
      "Help on function linrange in module modsim:\n",
      "\n",
      "linrange(start=0, stop=None, step=1, **kwargs)\n",
      "    Returns an array of evenly-spaced values in the interval [start, stop].\n",
      "    \n",
      "    This function works best if the space between start and stop\n",
      "    is divisible by step; otherwise the results might be surprising.\n",
      "    \n",
      "    By default, the last value in the array is `stop` (at least approximately).\n",
      "    If you provide the keyword argument `endpoint=False`, the last value\n",
      "    in the array is `stop-step`. \n",
      "    \n",
      "    start: first value\n",
      "    stop: last value\n",
      "    step: space between values\n",
      "    \n",
      "    Also accepts the same keyword arguments as np.linspace.  See\n",
      "    https://docs.scipy.org/doc/numpy/reference/generated/numpy.linspace.html\n",
      "    \n",
      "    returns: array or Quantity\n",
      "\n"
     ]
    }
   ],
   "source": [
    "help(linrange)"
   ]
  },
  {
   "cell_type": "markdown",
   "metadata": {},
   "source": [
    "Use `linrange` to make an array of numbers from 1 to 10 with a step size of 2."
   ]
  },
  {
   "cell_type": "code",
   "execution_count": 122,
   "metadata": {},
   "outputs": [
    {
     "data": {
      "text/plain": [
       "array([  1.,   6.,  11.])"
      ]
     },
     "execution_count": 122,
     "metadata": {},
     "output_type": "execute_result"
    }
   ],
   "source": [
    "# Solution goes here\n",
    "my_array = linrange(1, 11, 5)\n",
    "my_array"
   ]
  },
  {
   "cell_type": "markdown",
   "metadata": {
    "collapsed": true
   },
   "source": [
    "## Sweeping parameters"
   ]
  },
  {
   "cell_type": "markdown",
   "metadata": {},
   "source": [
    "The following example runs simulations with a range of values for `p1`; after each simulation, it prints the number of unhappy customers at the Olin station:"
   ]
  },
  {
   "cell_type": "code",
   "execution_count": 123,
   "metadata": {},
   "outputs": [
    {
     "data": {
      "text/plain": [
       "array([ 0. ,  0.1,  0.2,  0.3,  0.4,  0.5,  0.6,  0.7,  0.8,  0.9,  1. ])"
      ]
     },
     "execution_count": 123,
     "metadata": {},
     "output_type": "execute_result"
    }
   ],
   "source": [
    "p1_array = linspace(0, 1, 11)\n",
    "p1_array"
   ]
  },
  {
   "cell_type": "code",
   "execution_count": 124,
   "metadata": {},
   "outputs": [
    {
     "name": "stdout",
     "output_type": "stream",
     "text": [
      "0.0 0 16\n",
      "0.1 0 2\n",
      "0.2 0 0\n",
      "0.3 0 0\n",
      "0.4 3 0\n",
      "0.5 0 3\n",
      "0.6 19 0\n",
      "0.7 21 0\n",
      "0.8 28 0\n",
      "0.9 39 0\n",
      "1.0 42 0\n"
     ]
    }
   ],
   "source": [
    "for p1 in p1_array:\n",
    "    system = run_simulation(p1=p1)\n",
    "    print(p1, system.olin_empty, system.wellesley_empty)"
   ]
  },
  {
   "cell_type": "markdown",
   "metadata": {},
   "source": [
    "Now we can do the same thing, but plotting the results instead of printing them.\n",
    "\n"
   ]
  },
  {
   "cell_type": "code",
   "execution_count": 125,
   "metadata": {
    "collapsed": true
   },
   "outputs": [],
   "source": [
    "newfig()\n",
    "for p1 in p1_array:\n",
    "    system = run_simulation(p1=p1)\n",
    "    plot(p1, system.olin_empty, 'rs', label='olin')"
   ]
  },
  {
   "cell_type": "markdown",
   "metadata": {},
   "source": [
    "As always, we should decorate the figure.  This version of `decorate` takes `xlabel` as a parameter, for reasons you will see soon."
   ]
  },
  {
   "cell_type": "code",
   "execution_count": 126,
   "metadata": {
    "collapsed": true
   },
   "outputs": [],
   "source": [
    "def decorate(xlabel):\n",
    "    legend(loc='best')\n",
    "    label_axes(title='Olin-Wellesley Bikeshare',\n",
    "               xlabel=xlabel, \n",
    "               ylabel='Number of unhappy customers')"
   ]
  },
  {
   "cell_type": "code",
   "execution_count": 127,
   "metadata": {
    "collapsed": true
   },
   "outputs": [],
   "source": [
    "decorate(xlabel='Arrival rate at Olin (p1 in customers/min)')"
   ]
  },
  {
   "cell_type": "markdown",
   "metadata": {},
   "source": [
    "**Exercise:** Wrap this code in a function named `parameter_sweep` that takes an array called `p1_array` as a parameter.  It should create a new figure, run a simulation for each value of `p1` in `p1_array`, and plot the results.\n",
    "\n",
    "Once you have the function working, modify it so it also plots the number of unhappy customers at Wellesley.  Looking at the plot, can you estimate a range of values for `p1` that minimizes the total number of unhappy customers?"
   ]
  },
  {
   "cell_type": "code",
   "execution_count": 128,
   "metadata": {
    "collapsed": true
   },
   "outputs": [],
   "source": [
    "# Solution goes here\n",
    "def parameter_sweep(p1_array):\n",
    "    for p1 in p1_array:\n",
    "        system = run_simulation(p1=p1)\n",
    "        plot(p1, system.olin_empty, 'rs', label='olin')"
   ]
  },
  {
   "cell_type": "markdown",
   "metadata": {},
   "source": [
    "**With olin = 10, wellesley = 2, p2 = 0.2 in order to minimize the total number of unhappy customers, the p1 should be >= 0.4 or more practically we should provide more bikes at Wellesley**"
   ]
  },
  {
   "cell_type": "code",
   "execution_count": 129,
   "metadata": {
    "collapsed": true
   },
   "outputs": [],
   "source": [
    "# Solution goes here\n",
    "p1_array = linspace(0, 1, 22)\n",
    "parameter_sweep(p1_array)"
   ]
  },
  {
   "cell_type": "markdown",
   "metadata": {
    "collapsed": true
   },
   "source": [
    "**Exercise:** Write a function called `parameter_sweep2` that runs simulations with `p1=0.2` and a range of values for `p2`.\n",
    "\n",
    "Note: If you run `parameter_sweep2` a few times without calling `newfig`, you can plot multiple runs on the same axes, which will give you a sense of how much random variation there is from one run to the next. "
   ]
  },
  {
   "cell_type": "code",
   "execution_count": 130,
   "metadata": {
    "collapsed": true
   },
   "outputs": [],
   "source": [
    "# Solution goes here\n",
    "def parameter_sweep2(p2_array):\n",
    "    for p2 in p2_array:\n",
    "        system = run_simulation(p1=0.2, p2=p2)\n",
    "        plot(p2, system.wellesley_empty, 'rs', label='olin')"
   ]
  },
  {
   "cell_type": "code",
   "execution_count": 131,
   "metadata": {
    "collapsed": true
   },
   "outputs": [],
   "source": [
    "# Solution goes here\n",
    "p2_array = linspace(0, 1, 22)"
   ]
  },
  {
   "cell_type": "code",
   "execution_count": 132,
   "metadata": {
    "collapsed": true
   },
   "outputs": [],
   "source": [
    "# Solution goes here\n",
    "parameter_sweep2(p2_array)"
   ]
  },
  {
   "cell_type": "markdown",
   "metadata": {},
   "source": [
    "**Exercise:** Hold `p1=0.4` and `p2=0.2`, and sweep a range of values for `num_steps`.\n",
    "\n",
    "Hint: You will need a version of `run_simulation` that takes `num_steps` as a parameter.\n",
    "\n",
    "Hint: Because `num_steps` is supposed to be an integer use `range` rather than `linrange`."
   ]
  },
  {
   "cell_type": "code",
   "execution_count": 133,
   "metadata": {
    "collapsed": true
   },
   "outputs": [],
   "source": [
    "# Solution goes here\n",
    "# I already define run_simulation with run_steps as a parameter\n",
    "# help(range)"
   ]
  },
  {
   "cell_type": "code",
   "execution_count": 134,
   "metadata": {
    "collapsed": true
   },
   "outputs": [],
   "source": [
    "# Solution goes here\n",
    "def parameter_sweep3(num_steps_range):\n",
    "    for num_steps in num_steps_range:\n",
    "        system = run_simulation(p1=0.4, p2=0.2, num_steps=num_steps)\n",
    "        plot(num_steps, system.olin_empty, 'rs', label='olin')\n",
    "        # plot(num_steps, system.wellesley_empty, 'rs', label='olin')"
   ]
  },
  {
   "cell_type": "code",
   "execution_count": 135,
   "metadata": {
    "collapsed": true,
    "scrolled": false
   },
   "outputs": [],
   "source": [
    "# Solution goes here\n",
    "num_steps_range = range(20, 100)\n",
    "parameter_sweep3(num_steps_range)"
   ]
  },
  {
   "cell_type": "markdown",
   "metadata": {
    "collapsed": true
   },
   "source": [
    "**Exercise:** The code below runs a simulation with the same parameters 10 times and computes the average number of unhappy customers.\n",
    "\n",
    "1.  Wrap this code in a function called `run_simulations` that takes `num_runs` as a parameter.\n",
    "\n",
    "2.  Test `run_simulations`, and increase `num_runs` until the results are reasonably consistent from one run to the next.\n",
    "\n",
    "3.  Generalize `run_simulations` so it also takes the initial value of `olin` as a parameter.\n",
    "\n",
    "4.  Run the generalized version with `olin=12`.  How much do the two extra bikes decrease the average number of unhappy customers.\n",
    "\n",
    "5.  Make a plot that shows the average number of unhappy customers as a function of the initial number of bikes at Olin."
   ]
  },
  {
   "cell_type": "code",
   "execution_count": 136,
   "metadata": {
    "collapsed": true
   },
   "outputs": [],
   "source": [
    "# Solution goes here\n",
    "# Put those funcs right here so that we know what they are\n",
    "def run_simulation(olin=10, wellesley=2, num_steps=60, p1=0.4, p2=0.2, plot_flag=False):\n",
    "    bikeshare = System(olin=olin, wellesley=wellesley, \n",
    "                  olin_empty=0, wellesley_empty=0)\n",
    "    run_steps(bikeshare, num_steps, p1, p2, plot_flag)\n",
    "    return bikeshare\n",
    "\n",
    "def run_steps(system, num_steps=1, p1=0.5, p2=0.5, plot_flag=True):\n",
    "    \"\"\"Simulate the given number of time steps.\n",
    "    \n",
    "    `num_steps` should be an integer; if not, it gets rounded down.\n",
    "    \n",
    "    system: bikeshare System object\n",
    "    num_steps: number of time steps\n",
    "    p1: probability of an Olin->Wellesley customer arrival\n",
    "    p2: probability of a Wellesley->Olin customer arrival\n",
    "    plot_flag: boolean, whether to plot\n",
    "    \"\"\"\n",
    "    for i in range(int(num_steps)):\n",
    "        step(system, p1, p2)\n",
    "        if plot_flag:\n",
    "            plot_system(system)\n",
    "            \n",
    "def decorate(xlabel):\n",
    "    legend(loc='best')\n",
    "    label_axes(title='Olin-Wellesley Bikeshare',\n",
    "               xlabel=xlabel, \n",
    "               ylabel='Number of unhappy customers')"
   ]
  },
  {
   "cell_type": "code",
   "execution_count": 137,
   "metadata": {},
   "outputs": [],
   "source": [
    "# Solution goes here\n",
    "def run_simulations(num_runs=10, olin=12):\n",
    "    \"\"\"Simulate the given number of simulations.\n",
    "\n",
    "    num_runs: number of time runs/simulations\n",
    "    olin: initial number of bikes at olin\n",
    "    returned value: average number of unhappy customers\n",
    "    \"\"\"\n",
    "    num_unhappy_customers = 0\n",
    "    for i in range(num_runs):\n",
    "        bikeshare = run_simulation(olin=olin)\n",
    "        num_unhappy_customers += bikeshare.olin_empty + bikeshare.wellesley_empty\n",
    "    return num_unhappy_customers / num_runs"
   ]
  },
  {
   "cell_type": "code",
   "execution_count": 138,
   "metadata": {},
   "outputs": [],
   "source": [
    "# Solution goes here\n",
    "# Adjust olin to see the changes of unhappy customers. \n",
    "# With extra bikes at Olin, the num of unhappy customers at both stations decreases!\n",
    "# If num_runs = infinity, num_unhappy_customers would probably be a fixed value\n",
    "\n",
    "# num_unhappy_customers = run_simulations(num_runs=1000, olin=10)\n",
    "# num_unhappy_customers"
   ]
  },
  {
   "cell_type": "code",
   "execution_count": 139,
   "metadata": {},
   "outputs": [],
   "source": [
    "# Solution goes here\n",
    "# Now try to plot the function to show the relationship between num_unhappy_customers and olin bikes\n",
    "olin_range = range(1, 31)\n",
    "for olin in olin_range:\n",
    "    num_unhappy_customers = run_simulations(num_runs=100, olin=olin)\n",
    "    plot(olin, num_unhappy_customers, 'rs', label='Total unhappy customers')\n",
    "decorate('Number of bikes at Olin')"
   ]
  },
  {
   "cell_type": "code",
   "execution_count": 140,
   "metadata": {
    "collapsed": true
   },
   "outputs": [],
   "source": [
    "# Solution goes here\n",
    "# As we can see, the number of unhappy customers at both stations decreases when the available number of bikes at Olin increases."
   ]
  },
  {
   "cell_type": "code",
   "execution_count": 141,
   "metadata": {
    "collapsed": true
   },
   "outputs": [],
   "source": [
    "# Solution goes here"
   ]
  },
  {
   "cell_type": "code",
   "execution_count": null,
   "metadata": {
    "collapsed": true
   },
   "outputs": [],
   "source": []
  },
  {
   "cell_type": "code",
   "execution_count": null,
   "metadata": {
    "collapsed": true
   },
   "outputs": [],
   "source": []
  },
  {
   "cell_type": "code",
   "execution_count": null,
   "metadata": {
    "collapsed": true
   },
   "outputs": [],
   "source": []
  },
  {
   "cell_type": "code",
   "execution_count": null,
   "metadata": {
    "collapsed": true
   },
   "outputs": [],
   "source": []
  }
 ],
 "metadata": {
  "kernelspec": {
   "display_name": "Python 3",
   "language": "python",
   "name": "python3"
  },
  "language_info": {
   "codemirror_mode": {
    "name": "ipython",
    "version": 3
   },
   "file_extension": ".py",
   "mimetype": "text/x-python",
   "name": "python",
   "nbconvert_exporter": "python",
   "pygments_lexer": "ipython3",
   "version": "3.6.1"
  }
 },
 "nbformat": 4,
 "nbformat_minor": 1
}
